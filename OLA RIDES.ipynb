{
 "cells": [
  {
   "cell_type": "markdown",
   "id": "8ce275ab",
   "metadata": {},
   "source": [
    "# OLA RIDES ANALYSIS \n",
    "## PROBLEM STATEMENT\n",
    "##### OLA, a leading ride-hailing service, generates vast amounts of data related to ride bookings, driver availability, fare calculations, and customer preferences. However, deriving actionable insights from this data remains a challenge. To enhance operational efficiency, improve customer satisfaction, and optimize business strategies, this project focuses on analyzing OLA’s ride-sharing data. By leveraging data analytics, visualization techniques, and interactive applications, the goal is to extract meaningful insights that can drive data-informed decisions. The project will involve cleaning and processing raw ride data, performing exploratory data analysis (EDA), developing a dynamic Power BI dashboard, and creating a Streamlit-based web application to present key findings in an interactive and user-friendly manner.\n",
    "\n",
    "## PROBLEM SOLUTION \n",
    "### Data Understanding & Exploration\n",
    "##### * Load and examine the dataset structure.\n",
    "##### * Identify key variables like ride status, payment method, and ratings.\n",
    "##### * Perform initial exploratory data analysis (EDA).\n",
    "### Data Cleaning & Preprocessing\n",
    "##### * Handle missing or inconsistent values.\n",
    "##### * Convert data types and standardize formats.\n",
    "##### * Create derived features if necessary for better insights(created new column like hour of the day and day of the week)\n",
    "### SQL Query Development\n",
    "##### * Write queries to extract insights (e.g., ride trends, cancellations, ratings).\n",
    "##### * Optimize queries for performance and accuracy.\n",
    "##### * Validate results against the dataset.\n",
    "### Power BI Dashboard Creation\n",
    "##### * Design interactive visualizations for ride trends, revenue, and cancellations.\n",
    "##### * Integrate KPIs and metrics for business insights.\n",
    "### Streamlit Application Development\n",
    "##### * Create a user-friendly UI to display SQL query results.\n",
    "##### * Implement interactive filters and search options.\n",
    "### Project Documentation & Deployment\n",
    "##### * Document insights, queries, and dashboard explanations.\n",
    "##### * Ensure the Streamlit app is deployed and accessible.\n",
    "##### * Present findings with business-oriented storytelling.\n",
    "\n"
   ]
  },
  {
   "cell_type": "markdown",
   "id": "c4cb4df8",
   "metadata": {},
   "source": [
    "##### Github link:"
   ]
  },
  {
   "cell_type": "markdown",
   "id": "57d6f431",
   "metadata": {},
   "source": [
    "### Let's begin"
   ]
  },
  {
   "cell_type": "markdown",
   "id": "bbda4e67",
   "metadata": {},
   "source": [
    "Importing the neccesary libraries"
   ]
  },
  {
   "cell_type": "code",
   "execution_count": 1,
   "id": "079ed547",
   "metadata": {},
   "outputs": [],
   "source": [
    "# Loading Libraries\n",
    "import numpy as np\n",
    "import pandas as pd \n",
    "import matplotlib.pyplot as plt\n",
    "import seaborn as sns\n"
   ]
  },
  {
   "cell_type": "markdown",
   "id": "df5eb8cc",
   "metadata": {},
   "source": [
    "Load the dataset for EDA"
   ]
  },
  {
   "cell_type": "code",
   "execution_count": 2,
   "id": "8d894c06",
   "metadata": {},
   "outputs": [
    {
     "data": {
      "text/html": [
       "<div>\n",
       "<style scoped>\n",
       "    .dataframe tbody tr th:only-of-type {\n",
       "        vertical-align: middle;\n",
       "    }\n",
       "\n",
       "    .dataframe tbody tr th {\n",
       "        vertical-align: top;\n",
       "    }\n",
       "\n",
       "    .dataframe thead th {\n",
       "        text-align: right;\n",
       "    }\n",
       "</style>\n",
       "<table border=\"1\" class=\"dataframe\">\n",
       "  <thead>\n",
       "    <tr style=\"text-align: right;\">\n",
       "      <th></th>\n",
       "      <th>Date</th>\n",
       "      <th>Time</th>\n",
       "      <th>Booking_ID</th>\n",
       "      <th>Booking_Status</th>\n",
       "      <th>Customer_ID</th>\n",
       "      <th>Vehicle_Type</th>\n",
       "      <th>Pickup_Location</th>\n",
       "      <th>Drop_Location</th>\n",
       "      <th>V_TAT</th>\n",
       "      <th>C_TAT</th>\n",
       "      <th>Canceled_Rides_by_Customer</th>\n",
       "      <th>Canceled_Rides_by_Driver</th>\n",
       "      <th>Incomplete_Rides</th>\n",
       "      <th>Incomplete_Rides_Reason</th>\n",
       "      <th>Booking_Value</th>\n",
       "      <th>Payment_Method</th>\n",
       "      <th>Ride_Distance</th>\n",
       "      <th>Driver_Ratings</th>\n",
       "      <th>Customer_Rating</th>\n",
       "      <th>Vehicle Images</th>\n",
       "    </tr>\n",
       "  </thead>\n",
       "  <tbody>\n",
       "    <tr>\n",
       "      <th>0</th>\n",
       "      <td>2024-07-26 14:00:00</td>\n",
       "      <td>14:00:00</td>\n",
       "      <td>CNR7153255142</td>\n",
       "      <td>Canceled by Driver</td>\n",
       "      <td>CID713523</td>\n",
       "      <td>Prime Sedan</td>\n",
       "      <td>Tumkur Road</td>\n",
       "      <td>RT Nagar</td>\n",
       "      <td>NaN</td>\n",
       "      <td>NaN</td>\n",
       "      <td>NaN</td>\n",
       "      <td>Personal &amp; Car related issue</td>\n",
       "      <td>NaN</td>\n",
       "      <td>NaN</td>\n",
       "      <td>444</td>\n",
       "      <td>NaN</td>\n",
       "      <td>0</td>\n",
       "      <td>NaN</td>\n",
       "      <td>NaN</td>\n",
       "      <td>https://cdn-icons-png.flaticon.com/128/14183/1...</td>\n",
       "    </tr>\n",
       "    <tr>\n",
       "      <th>1</th>\n",
       "      <td>2024-07-25 22:20:00</td>\n",
       "      <td>22:20:00</td>\n",
       "      <td>CNR2940424040</td>\n",
       "      <td>Success</td>\n",
       "      <td>CID225428</td>\n",
       "      <td>Bike</td>\n",
       "      <td>Magadi Road</td>\n",
       "      <td>Varthur</td>\n",
       "      <td>203.0</td>\n",
       "      <td>30.0</td>\n",
       "      <td>NaN</td>\n",
       "      <td>NaN</td>\n",
       "      <td>No</td>\n",
       "      <td>NaN</td>\n",
       "      <td>158</td>\n",
       "      <td>Cash</td>\n",
       "      <td>13</td>\n",
       "      <td>4.1</td>\n",
       "      <td>4.0</td>\n",
       "      <td>https://cdn-icons-png.flaticon.com/128/9983/99...</td>\n",
       "    </tr>\n",
       "    <tr>\n",
       "      <th>2</th>\n",
       "      <td>2024-07-30 19:59:00</td>\n",
       "      <td>19:59:00</td>\n",
       "      <td>CNR2982357879</td>\n",
       "      <td>Success</td>\n",
       "      <td>CID270156</td>\n",
       "      <td>Prime SUV</td>\n",
       "      <td>Sahakar Nagar</td>\n",
       "      <td>Varthur</td>\n",
       "      <td>238.0</td>\n",
       "      <td>130.0</td>\n",
       "      <td>NaN</td>\n",
       "      <td>NaN</td>\n",
       "      <td>No</td>\n",
       "      <td>NaN</td>\n",
       "      <td>386</td>\n",
       "      <td>UPI</td>\n",
       "      <td>40</td>\n",
       "      <td>4.2</td>\n",
       "      <td>4.8</td>\n",
       "      <td>https://cdn-icons-png.flaticon.com/128/9983/99...</td>\n",
       "    </tr>\n",
       "    <tr>\n",
       "      <th>3</th>\n",
       "      <td>2024-07-22 3:15:00</td>\n",
       "      <td>3:15:00</td>\n",
       "      <td>CNR2395710036</td>\n",
       "      <td>Canceled by Customer</td>\n",
       "      <td>CID581320</td>\n",
       "      <td>eBike</td>\n",
       "      <td>HSR Layout</td>\n",
       "      <td>Vijayanagar</td>\n",
       "      <td>NaN</td>\n",
       "      <td>NaN</td>\n",
       "      <td>Driver is not moving towards pickup location</td>\n",
       "      <td>NaN</td>\n",
       "      <td>NaN</td>\n",
       "      <td>NaN</td>\n",
       "      <td>384</td>\n",
       "      <td>NaN</td>\n",
       "      <td>0</td>\n",
       "      <td>NaN</td>\n",
       "      <td>NaN</td>\n",
       "      <td>https://cdn-icons-png.flaticon.com/128/6839/68...</td>\n",
       "    </tr>\n",
       "    <tr>\n",
       "      <th>4</th>\n",
       "      <td>2024-07-02 9:02:00</td>\n",
       "      <td>9:02:00</td>\n",
       "      <td>CNR1797421769</td>\n",
       "      <td>Success</td>\n",
       "      <td>CID939555</td>\n",
       "      <td>Mini</td>\n",
       "      <td>Rajajinagar</td>\n",
       "      <td>Chamarajpet</td>\n",
       "      <td>252.0</td>\n",
       "      <td>80.0</td>\n",
       "      <td>NaN</td>\n",
       "      <td>NaN</td>\n",
       "      <td>No</td>\n",
       "      <td>NaN</td>\n",
       "      <td>822</td>\n",
       "      <td>Credit Card</td>\n",
       "      <td>45</td>\n",
       "      <td>4.0</td>\n",
       "      <td>3.0</td>\n",
       "      <td>https://cdn-icons-png.flaticon.com/128/3202/32...</td>\n",
       "    </tr>\n",
       "  </tbody>\n",
       "</table>\n",
       "</div>"
      ],
      "text/plain": [
       "                  Date      Time     Booking_ID        Booking_Status  \\\n",
       "0  2024-07-26 14:00:00  14:00:00  CNR7153255142    Canceled by Driver   \n",
       "1  2024-07-25 22:20:00  22:20:00  CNR2940424040               Success   \n",
       "2  2024-07-30 19:59:00  19:59:00  CNR2982357879               Success   \n",
       "3   2024-07-22 3:15:00   3:15:00  CNR2395710036  Canceled by Customer   \n",
       "4   2024-07-02 9:02:00   9:02:00  CNR1797421769               Success   \n",
       "\n",
       "  Customer_ID Vehicle_Type Pickup_Location Drop_Location  V_TAT  C_TAT  \\\n",
       "0   CID713523  Prime Sedan     Tumkur Road      RT Nagar    NaN    NaN   \n",
       "1   CID225428         Bike     Magadi Road       Varthur  203.0   30.0   \n",
       "2   CID270156    Prime SUV   Sahakar Nagar       Varthur  238.0  130.0   \n",
       "3   CID581320        eBike      HSR Layout   Vijayanagar    NaN    NaN   \n",
       "4   CID939555         Mini     Rajajinagar   Chamarajpet  252.0   80.0   \n",
       "\n",
       "                     Canceled_Rides_by_Customer      Canceled_Rides_by_Driver  \\\n",
       "0                                           NaN  Personal & Car related issue   \n",
       "1                                           NaN                           NaN   \n",
       "2                                           NaN                           NaN   \n",
       "3  Driver is not moving towards pickup location                           NaN   \n",
       "4                                           NaN                           NaN   \n",
       "\n",
       "  Incomplete_Rides Incomplete_Rides_Reason  Booking_Value Payment_Method  \\\n",
       "0              NaN                     NaN            444            NaN   \n",
       "1               No                     NaN            158           Cash   \n",
       "2               No                     NaN            386            UPI   \n",
       "3              NaN                     NaN            384            NaN   \n",
       "4               No                     NaN            822    Credit Card   \n",
       "\n",
       "   Ride_Distance  Driver_Ratings  Customer_Rating  \\\n",
       "0              0             NaN              NaN   \n",
       "1             13             4.1              4.0   \n",
       "2             40             4.2              4.8   \n",
       "3              0             NaN              NaN   \n",
       "4             45             4.0              3.0   \n",
       "\n",
       "                                      Vehicle Images  \n",
       "0  https://cdn-icons-png.flaticon.com/128/14183/1...  \n",
       "1  https://cdn-icons-png.flaticon.com/128/9983/99...  \n",
       "2  https://cdn-icons-png.flaticon.com/128/9983/99...  \n",
       "3  https://cdn-icons-png.flaticon.com/128/6839/68...  \n",
       "4  https://cdn-icons-png.flaticon.com/128/3202/32...  "
      ]
     },
     "execution_count": 2,
     "metadata": {},
     "output_type": "execute_result"
    }
   ],
   "source": [
    "# read the file\n",
    "df = pd.read_csv('C:\\\\Users\\\\anous\\\\OneDrive\\\\PROJECTS\\\\OLA RIDES ANALYSIS\\\\OLA_DataSet.xlsx - July.csv')\n",
    "df.head()"
   ]
  },
  {
   "cell_type": "markdown",
   "id": "1854625c",
   "metadata": {},
   "source": [
    "Checking the null values, missing values, duplicates and datatype for more clear understanding of dataset and remove unneccessary values."
   ]
  },
  {
   "cell_type": "code",
   "execution_count": 3,
   "id": "59d00957",
   "metadata": {},
   "outputs": [
    {
     "data": {
      "text/plain": [
       "Date                              0\n",
       "Time                              0\n",
       "Booking_ID                        0\n",
       "Booking_Status                    0\n",
       "Customer_ID                       0\n",
       "Vehicle_Type                      0\n",
       "Pickup_Location                   0\n",
       "Drop_Location                     0\n",
       "V_TAT                         39057\n",
       "C_TAT                         39057\n",
       "Canceled_Rides_by_Customer    92525\n",
       "Canceled_Rides_by_Driver      84590\n",
       "Incomplete_Rides              39057\n",
       "Incomplete_Rides_Reason       99098\n",
       "Booking_Value                     0\n",
       "Payment_Method                39057\n",
       "Ride_Distance                     0\n",
       "Driver_Ratings                39057\n",
       "Customer_Rating               39057\n",
       "Vehicle Images                    0\n",
       "dtype: int64"
      ]
     },
     "execution_count": 3,
     "metadata": {},
     "output_type": "execute_result"
    }
   ],
   "source": [
    "df.isnull().sum()"
   ]
  },
  {
   "cell_type": "code",
   "execution_count": 4,
   "id": "0079c9cf",
   "metadata": {},
   "outputs": [
    {
     "data": {
      "text/plain": [
       "np.int64(0)"
      ]
     },
     "execution_count": 4,
     "metadata": {},
     "output_type": "execute_result"
    }
   ],
   "source": [
    "# checking for duplicate values\n",
    "df.duplicated().sum()"
   ]
  },
  {
   "cell_type": "markdown",
   "id": "40cb7543",
   "metadata": {},
   "source": [
    "As it shown in the following datatype the date and time are objet we change this to correct datatypes in datetime format"
   ]
  },
  {
   "cell_type": "code",
   "execution_count": 5,
   "id": "118a668c",
   "metadata": {},
   "outputs": [
    {
     "data": {
      "text/plain": [
       "Date                           object\n",
       "Time                           object\n",
       "Booking_ID                     object\n",
       "Booking_Status                 object\n",
       "Customer_ID                    object\n",
       "Vehicle_Type                   object\n",
       "Pickup_Location                object\n",
       "Drop_Location                  object\n",
       "V_TAT                         float64\n",
       "C_TAT                         float64\n",
       "Canceled_Rides_by_Customer     object\n",
       "Canceled_Rides_by_Driver       object\n",
       "Incomplete_Rides               object\n",
       "Incomplete_Rides_Reason        object\n",
       "Booking_Value                   int64\n",
       "Payment_Method                 object\n",
       "Ride_Distance                   int64\n",
       "Driver_Ratings                float64\n",
       "Customer_Rating               float64\n",
       "Vehicle Images                 object\n",
       "dtype: object"
      ]
     },
     "execution_count": 5,
     "metadata": {},
     "output_type": "execute_result"
    }
   ],
   "source": [
    "# check the datatypes\n",
    "df.dtypes"
   ]
  },
  {
   "cell_type": "markdown",
   "id": "72ba1f6e",
   "metadata": {},
   "source": [
    "Convert time and date column, and extract new features like HOUR OF THE DAY and DAY OF THE WEEK"
   ]
  },
  {
   "cell_type": "code",
   "execution_count": 6,
   "id": "546075f3",
   "metadata": {},
   "outputs": [
    {
     "name": "stderr",
     "output_type": "stream",
     "text": [
      "C:\\Users\\anous\\AppData\\Local\\Temp\\ipykernel_17672\\2304098489.py:4: UserWarning: Could not infer format, so each element will be parsed individually, falling back to `dateutil`. To ensure parsing is consistent and as-expected, please specify a format.\n",
      "  df['Time'] = pd.to_datetime(df['Time'], errors='coerce')\n"
     ]
    }
   ],
   "source": [
    "# Convert 'Date' and 'Time' columns; extract new features: day of week and hour of day\n",
    "df['Date'] = pd.to_datetime(df['Date'])\n",
    "df['DayOfWeek'] = df['Date'].dt.day_name()\n",
    "df['Time'] = pd.to_datetime(df['Time'], errors='coerce')\n",
    "df['Hour'] = df['Time'].dt.hour.fillna(0).astype(int)"
   ]
  },
  {
   "cell_type": "code",
   "execution_count": 7,
   "id": "9799af40",
   "metadata": {},
   "outputs": [
    {
     "name": "stderr",
     "output_type": "stream",
     "text": [
      "C:\\Users\\anous\\AppData\\Local\\Temp\\ipykernel_17672\\3982819648.py:7: FutureWarning: A value is trying to be set on a copy of a DataFrame or Series through chained assignment using an inplace method.\n",
      "The behavior will change in pandas 3.0. This inplace method will never work because the intermediate object on which we are setting values always behaves as a copy.\n",
      "\n",
      "For example, when doing 'df[col].method(value, inplace=True)', try using 'df.method({col: value}, inplace=True)' or df[col] = df[col].method(value) instead, to perform the operation inplace on the original object.\n",
      "\n",
      "\n",
      "  df[col].fillna('Unknown', inplace=True)\n",
      "C:\\Users\\anous\\AppData\\Local\\Temp\\ipykernel_17672\\3982819648.py:5: FutureWarning: A value is trying to be set on a copy of a DataFrame or Series through chained assignment using an inplace method.\n",
      "The behavior will change in pandas 3.0. This inplace method will never work because the intermediate object on which we are setting values always behaves as a copy.\n",
      "\n",
      "For example, when doing 'df[col].method(value, inplace=True)', try using 'df.method({col: value}, inplace=True)' or df[col] = df[col].method(value) instead, to perform the operation inplace on the original object.\n",
      "\n",
      "\n",
      "  df[col].fillna(0, inplace=True)\n"
     ]
    },
    {
     "data": {
      "text/plain": [
       "Date                          0\n",
       "Time                          0\n",
       "Booking_ID                    0\n",
       "Booking_Status                0\n",
       "Customer_ID                   0\n",
       "Vehicle_Type                  0\n",
       "Pickup_Location               0\n",
       "Drop_Location                 0\n",
       "V_TAT                         0\n",
       "C_TAT                         0\n",
       "Canceled_Rides_by_Customer    0\n",
       "Canceled_Rides_by_Driver      0\n",
       "Incomplete_Rides              0\n",
       "Incomplete_Rides_Reason       0\n",
       "Booking_Value                 0\n",
       "Payment_Method                0\n",
       "Ride_Distance                 0\n",
       "Driver_Ratings                0\n",
       "Customer_Rating               0\n",
       "Vehicle Images                0\n",
       "DayOfWeek                     0\n",
       "Hour                          0\n",
       "dtype: int64"
      ]
     },
     "execution_count": 7,
     "metadata": {},
     "output_type": "execute_result"
    }
   ],
   "source": [
    "# Replace missing values with constant values\n",
    "# For numeric columns, fill with 0; for object/categorical columns, fill with 'Unknown'\n",
    "for col in df.columns:\n",
    "    if df[col].dtype in ['float64', 'int64']:\n",
    "        df[col].fillna(0, inplace=True)\n",
    "    else:\n",
    "        df[col].fillna('Unknown', inplace=True)\n",
    "\n",
    "df.isnull().sum()"
   ]
  },
  {
   "cell_type": "code",
   "execution_count": 8,
   "id": "63fdd9bd",
   "metadata": {},
   "outputs": [
    {
     "name": "stdout",
     "output_type": "stream",
     "text": [
      "<class 'pandas.core.frame.DataFrame'>\n",
      "RangeIndex: 103024 entries, 0 to 103023\n",
      "Data columns (total 22 columns):\n",
      " #   Column                      Non-Null Count   Dtype         \n",
      "---  ------                      --------------   -----         \n",
      " 0   Date                        103024 non-null  datetime64[ns]\n",
      " 1   Time                        103024 non-null  datetime64[ns]\n",
      " 2   Booking_ID                  103024 non-null  object        \n",
      " 3   Booking_Status              103024 non-null  object        \n",
      " 4   Customer_ID                 103024 non-null  object        \n",
      " 5   Vehicle_Type                103024 non-null  object        \n",
      " 6   Pickup_Location             103024 non-null  object        \n",
      " 7   Drop_Location               103024 non-null  object        \n",
      " 8   V_TAT                       103024 non-null  float64       \n",
      " 9   C_TAT                       103024 non-null  float64       \n",
      " 10  Canceled_Rides_by_Customer  103024 non-null  object        \n",
      " 11  Canceled_Rides_by_Driver    103024 non-null  object        \n",
      " 12  Incomplete_Rides            103024 non-null  object        \n",
      " 13  Incomplete_Rides_Reason     103024 non-null  object        \n",
      " 14  Booking_Value               103024 non-null  int64         \n",
      " 15  Payment_Method              103024 non-null  object        \n",
      " 16  Ride_Distance               103024 non-null  int64         \n",
      " 17  Driver_Ratings              103024 non-null  float64       \n",
      " 18  Customer_Rating             103024 non-null  float64       \n",
      " 19  Vehicle Images              103024 non-null  object        \n",
      " 20  DayOfWeek                   103024 non-null  object        \n",
      " 21  Hour                        103024 non-null  int64         \n",
      "dtypes: datetime64[ns](2), float64(4), int64(3), object(13)\n",
      "memory usage: 17.3+ MB\n"
     ]
    }
   ],
   "source": [
    "df.info()"
   ]
  },
  {
   "cell_type": "markdown",
   "id": "aa57f541",
   "metadata": {},
   "source": [
    "Here we performed the statistical summary"
   ]
  },
  {
   "cell_type": "code",
   "execution_count": 9,
   "id": "cf002ae2",
   "metadata": {},
   "outputs": [
    {
     "data": {
      "text/html": [
       "<div>\n",
       "<style scoped>\n",
       "    .dataframe tbody tr th:only-of-type {\n",
       "        vertical-align: middle;\n",
       "    }\n",
       "\n",
       "    .dataframe tbody tr th {\n",
       "        vertical-align: top;\n",
       "    }\n",
       "\n",
       "    .dataframe thead th {\n",
       "        text-align: right;\n",
       "    }\n",
       "</style>\n",
       "<table border=\"1\" class=\"dataframe\">\n",
       "  <thead>\n",
       "    <tr style=\"text-align: right;\">\n",
       "      <th></th>\n",
       "      <th>Date</th>\n",
       "      <th>Time</th>\n",
       "      <th>V_TAT</th>\n",
       "      <th>C_TAT</th>\n",
       "      <th>Booking_Value</th>\n",
       "      <th>Ride_Distance</th>\n",
       "      <th>Driver_Ratings</th>\n",
       "      <th>Customer_Rating</th>\n",
       "      <th>Hour</th>\n",
       "    </tr>\n",
       "  </thead>\n",
       "  <tbody>\n",
       "    <tr>\n",
       "      <th>count</th>\n",
       "      <td>103024</td>\n",
       "      <td>103024</td>\n",
       "      <td>103024.000000</td>\n",
       "      <td>103024.000000</td>\n",
       "      <td>103024.000000</td>\n",
       "      <td>103024.000000</td>\n",
       "      <td>103024.000000</td>\n",
       "      <td>103024.000000</td>\n",
       "      <td>103024.000000</td>\n",
       "    </tr>\n",
       "    <tr>\n",
       "      <th>mean</th>\n",
       "      <td>2024-07-16 11:31:38.879678720</td>\n",
       "      <td>2025-09-28 11:58:37.453991424</td>\n",
       "      <td>106.096502</td>\n",
       "      <td>52.697381</td>\n",
       "      <td>548.751883</td>\n",
       "      <td>14.189927</td>\n",
       "      <td>2.481997</td>\n",
       "      <td>2.482529</td>\n",
       "      <td>11.485528</td>\n",
       "    </tr>\n",
       "    <tr>\n",
       "      <th>min</th>\n",
       "      <td>2024-07-01 00:00:00</td>\n",
       "      <td>2025-09-28 00:00:00</td>\n",
       "      <td>0.000000</td>\n",
       "      <td>0.000000</td>\n",
       "      <td>100.000000</td>\n",
       "      <td>0.000000</td>\n",
       "      <td>0.000000</td>\n",
       "      <td>0.000000</td>\n",
       "      <td>0.000000</td>\n",
       "    </tr>\n",
       "    <tr>\n",
       "      <th>25%</th>\n",
       "      <td>2024-07-08 18:41:00</td>\n",
       "      <td>2025-09-28 06:01:00</td>\n",
       "      <td>0.000000</td>\n",
       "      <td>0.000000</td>\n",
       "      <td>242.000000</td>\n",
       "      <td>0.000000</td>\n",
       "      <td>0.000000</td>\n",
       "      <td>0.000000</td>\n",
       "      <td>6.000000</td>\n",
       "    </tr>\n",
       "    <tr>\n",
       "      <th>50%</th>\n",
       "      <td>2024-07-16 11:23:00</td>\n",
       "      <td>2025-09-28 11:58:00</td>\n",
       "      <td>84.000000</td>\n",
       "      <td>45.000000</td>\n",
       "      <td>386.000000</td>\n",
       "      <td>8.000000</td>\n",
       "      <td>3.400000</td>\n",
       "      <td>3.400000</td>\n",
       "      <td>11.000000</td>\n",
       "    </tr>\n",
       "    <tr>\n",
       "      <th>75%</th>\n",
       "      <td>2024-07-24 05:18:00</td>\n",
       "      <td>2025-09-28 17:57:00</td>\n",
       "      <td>196.000000</td>\n",
       "      <td>95.000000</td>\n",
       "      <td>621.000000</td>\n",
       "      <td>26.000000</td>\n",
       "      <td>4.200000</td>\n",
       "      <td>4.200000</td>\n",
       "      <td>17.000000</td>\n",
       "    </tr>\n",
       "    <tr>\n",
       "      <th>max</th>\n",
       "      <td>2024-07-31 23:58:00</td>\n",
       "      <td>2025-09-28 23:59:00</td>\n",
       "      <td>308.000000</td>\n",
       "      <td>145.000000</td>\n",
       "      <td>2999.000000</td>\n",
       "      <td>49.000000</td>\n",
       "      <td>5.000000</td>\n",
       "      <td>5.000000</td>\n",
       "      <td>23.000000</td>\n",
       "    </tr>\n",
       "    <tr>\n",
       "      <th>std</th>\n",
       "      <td>NaN</td>\n",
       "      <td>NaN</td>\n",
       "      <td>104.532203</td>\n",
       "      <td>50.005090</td>\n",
       "      <td>536.541221</td>\n",
       "      <td>15.776270</td>\n",
       "      <td>1.991983</td>\n",
       "      <td>1.992770</td>\n",
       "      <td>6.912131</td>\n",
       "    </tr>\n",
       "  </tbody>\n",
       "</table>\n",
       "</div>"
      ],
      "text/plain": [
       "                                Date                           Time  \\\n",
       "count                         103024                         103024   \n",
       "mean   2024-07-16 11:31:38.879678720  2025-09-28 11:58:37.453991424   \n",
       "min              2024-07-01 00:00:00            2025-09-28 00:00:00   \n",
       "25%              2024-07-08 18:41:00            2025-09-28 06:01:00   \n",
       "50%              2024-07-16 11:23:00            2025-09-28 11:58:00   \n",
       "75%              2024-07-24 05:18:00            2025-09-28 17:57:00   \n",
       "max              2024-07-31 23:58:00            2025-09-28 23:59:00   \n",
       "std                              NaN                            NaN   \n",
       "\n",
       "               V_TAT          C_TAT  Booking_Value  Ride_Distance  \\\n",
       "count  103024.000000  103024.000000  103024.000000  103024.000000   \n",
       "mean      106.096502      52.697381     548.751883      14.189927   \n",
       "min         0.000000       0.000000     100.000000       0.000000   \n",
       "25%         0.000000       0.000000     242.000000       0.000000   \n",
       "50%        84.000000      45.000000     386.000000       8.000000   \n",
       "75%       196.000000      95.000000     621.000000      26.000000   \n",
       "max       308.000000     145.000000    2999.000000      49.000000   \n",
       "std       104.532203      50.005090     536.541221      15.776270   \n",
       "\n",
       "       Driver_Ratings  Customer_Rating           Hour  \n",
       "count   103024.000000    103024.000000  103024.000000  \n",
       "mean         2.481997         2.482529      11.485528  \n",
       "min          0.000000         0.000000       0.000000  \n",
       "25%          0.000000         0.000000       6.000000  \n",
       "50%          3.400000         3.400000      11.000000  \n",
       "75%          4.200000         4.200000      17.000000  \n",
       "max          5.000000         5.000000      23.000000  \n",
       "std          1.991983         1.992770       6.912131  "
      ]
     },
     "execution_count": 9,
     "metadata": {},
     "output_type": "execute_result"
    }
   ],
   "source": [
    "df.describe()"
   ]
  },
  {
   "cell_type": "markdown",
   "id": "e3c1826a",
   "metadata": {},
   "source": [
    "## The final dataset is ready for further analysis"
   ]
  },
  {
   "cell_type": "code",
   "execution_count": 10,
   "id": "f01945bd",
   "metadata": {},
   "outputs": [
    {
     "data": {
      "text/html": [
       "<div>\n",
       "<style scoped>\n",
       "    .dataframe tbody tr th:only-of-type {\n",
       "        vertical-align: middle;\n",
       "    }\n",
       "\n",
       "    .dataframe tbody tr th {\n",
       "        vertical-align: top;\n",
       "    }\n",
       "\n",
       "    .dataframe thead th {\n",
       "        text-align: right;\n",
       "    }\n",
       "</style>\n",
       "<table border=\"1\" class=\"dataframe\">\n",
       "  <thead>\n",
       "    <tr style=\"text-align: right;\">\n",
       "      <th></th>\n",
       "      <th>Date</th>\n",
       "      <th>Time</th>\n",
       "      <th>Booking_ID</th>\n",
       "      <th>Booking_Status</th>\n",
       "      <th>Customer_ID</th>\n",
       "      <th>Vehicle_Type</th>\n",
       "      <th>Pickup_Location</th>\n",
       "      <th>Drop_Location</th>\n",
       "      <th>V_TAT</th>\n",
       "      <th>C_TAT</th>\n",
       "      <th>...</th>\n",
       "      <th>Incomplete_Rides</th>\n",
       "      <th>Incomplete_Rides_Reason</th>\n",
       "      <th>Booking_Value</th>\n",
       "      <th>Payment_Method</th>\n",
       "      <th>Ride_Distance</th>\n",
       "      <th>Driver_Ratings</th>\n",
       "      <th>Customer_Rating</th>\n",
       "      <th>Vehicle Images</th>\n",
       "      <th>DayOfWeek</th>\n",
       "      <th>Hour</th>\n",
       "    </tr>\n",
       "  </thead>\n",
       "  <tbody>\n",
       "    <tr>\n",
       "      <th>0</th>\n",
       "      <td>2024-07-26 14:00:00</td>\n",
       "      <td>2025-09-28 14:00:00</td>\n",
       "      <td>CNR7153255142</td>\n",
       "      <td>Canceled by Driver</td>\n",
       "      <td>CID713523</td>\n",
       "      <td>Prime Sedan</td>\n",
       "      <td>Tumkur Road</td>\n",
       "      <td>RT Nagar</td>\n",
       "      <td>0.0</td>\n",
       "      <td>0.0</td>\n",
       "      <td>...</td>\n",
       "      <td>Unknown</td>\n",
       "      <td>Unknown</td>\n",
       "      <td>444</td>\n",
       "      <td>Unknown</td>\n",
       "      <td>0</td>\n",
       "      <td>0.0</td>\n",
       "      <td>0.0</td>\n",
       "      <td>https://cdn-icons-png.flaticon.com/128/14183/1...</td>\n",
       "      <td>Friday</td>\n",
       "      <td>14</td>\n",
       "    </tr>\n",
       "    <tr>\n",
       "      <th>1</th>\n",
       "      <td>2024-07-25 22:20:00</td>\n",
       "      <td>2025-09-28 22:20:00</td>\n",
       "      <td>CNR2940424040</td>\n",
       "      <td>Success</td>\n",
       "      <td>CID225428</td>\n",
       "      <td>Bike</td>\n",
       "      <td>Magadi Road</td>\n",
       "      <td>Varthur</td>\n",
       "      <td>203.0</td>\n",
       "      <td>30.0</td>\n",
       "      <td>...</td>\n",
       "      <td>No</td>\n",
       "      <td>Unknown</td>\n",
       "      <td>158</td>\n",
       "      <td>Cash</td>\n",
       "      <td>13</td>\n",
       "      <td>4.1</td>\n",
       "      <td>4.0</td>\n",
       "      <td>https://cdn-icons-png.flaticon.com/128/9983/99...</td>\n",
       "      <td>Thursday</td>\n",
       "      <td>22</td>\n",
       "    </tr>\n",
       "    <tr>\n",
       "      <th>2</th>\n",
       "      <td>2024-07-30 19:59:00</td>\n",
       "      <td>2025-09-28 19:59:00</td>\n",
       "      <td>CNR2982357879</td>\n",
       "      <td>Success</td>\n",
       "      <td>CID270156</td>\n",
       "      <td>Prime SUV</td>\n",
       "      <td>Sahakar Nagar</td>\n",
       "      <td>Varthur</td>\n",
       "      <td>238.0</td>\n",
       "      <td>130.0</td>\n",
       "      <td>...</td>\n",
       "      <td>No</td>\n",
       "      <td>Unknown</td>\n",
       "      <td>386</td>\n",
       "      <td>UPI</td>\n",
       "      <td>40</td>\n",
       "      <td>4.2</td>\n",
       "      <td>4.8</td>\n",
       "      <td>https://cdn-icons-png.flaticon.com/128/9983/99...</td>\n",
       "      <td>Tuesday</td>\n",
       "      <td>19</td>\n",
       "    </tr>\n",
       "    <tr>\n",
       "      <th>3</th>\n",
       "      <td>2024-07-22 03:15:00</td>\n",
       "      <td>2025-09-28 03:15:00</td>\n",
       "      <td>CNR2395710036</td>\n",
       "      <td>Canceled by Customer</td>\n",
       "      <td>CID581320</td>\n",
       "      <td>eBike</td>\n",
       "      <td>HSR Layout</td>\n",
       "      <td>Vijayanagar</td>\n",
       "      <td>0.0</td>\n",
       "      <td>0.0</td>\n",
       "      <td>...</td>\n",
       "      <td>Unknown</td>\n",
       "      <td>Unknown</td>\n",
       "      <td>384</td>\n",
       "      <td>Unknown</td>\n",
       "      <td>0</td>\n",
       "      <td>0.0</td>\n",
       "      <td>0.0</td>\n",
       "      <td>https://cdn-icons-png.flaticon.com/128/6839/68...</td>\n",
       "      <td>Monday</td>\n",
       "      <td>3</td>\n",
       "    </tr>\n",
       "    <tr>\n",
       "      <th>4</th>\n",
       "      <td>2024-07-02 09:02:00</td>\n",
       "      <td>2025-09-28 09:02:00</td>\n",
       "      <td>CNR1797421769</td>\n",
       "      <td>Success</td>\n",
       "      <td>CID939555</td>\n",
       "      <td>Mini</td>\n",
       "      <td>Rajajinagar</td>\n",
       "      <td>Chamarajpet</td>\n",
       "      <td>252.0</td>\n",
       "      <td>80.0</td>\n",
       "      <td>...</td>\n",
       "      <td>No</td>\n",
       "      <td>Unknown</td>\n",
       "      <td>822</td>\n",
       "      <td>Credit Card</td>\n",
       "      <td>45</td>\n",
       "      <td>4.0</td>\n",
       "      <td>3.0</td>\n",
       "      <td>https://cdn-icons-png.flaticon.com/128/3202/32...</td>\n",
       "      <td>Tuesday</td>\n",
       "      <td>9</td>\n",
       "    </tr>\n",
       "  </tbody>\n",
       "</table>\n",
       "<p>5 rows × 22 columns</p>\n",
       "</div>"
      ],
      "text/plain": [
       "                 Date                Time     Booking_ID  \\\n",
       "0 2024-07-26 14:00:00 2025-09-28 14:00:00  CNR7153255142   \n",
       "1 2024-07-25 22:20:00 2025-09-28 22:20:00  CNR2940424040   \n",
       "2 2024-07-30 19:59:00 2025-09-28 19:59:00  CNR2982357879   \n",
       "3 2024-07-22 03:15:00 2025-09-28 03:15:00  CNR2395710036   \n",
       "4 2024-07-02 09:02:00 2025-09-28 09:02:00  CNR1797421769   \n",
       "\n",
       "         Booking_Status Customer_ID Vehicle_Type Pickup_Location  \\\n",
       "0    Canceled by Driver   CID713523  Prime Sedan     Tumkur Road   \n",
       "1               Success   CID225428         Bike     Magadi Road   \n",
       "2               Success   CID270156    Prime SUV   Sahakar Nagar   \n",
       "3  Canceled by Customer   CID581320        eBike      HSR Layout   \n",
       "4               Success   CID939555         Mini     Rajajinagar   \n",
       "\n",
       "  Drop_Location  V_TAT  C_TAT  ... Incomplete_Rides Incomplete_Rides_Reason  \\\n",
       "0      RT Nagar    0.0    0.0  ...          Unknown                 Unknown   \n",
       "1       Varthur  203.0   30.0  ...               No                 Unknown   \n",
       "2       Varthur  238.0  130.0  ...               No                 Unknown   \n",
       "3   Vijayanagar    0.0    0.0  ...          Unknown                 Unknown   \n",
       "4   Chamarajpet  252.0   80.0  ...               No                 Unknown   \n",
       "\n",
       "  Booking_Value Payment_Method  Ride_Distance Driver_Ratings  Customer_Rating  \\\n",
       "0           444        Unknown              0            0.0              0.0   \n",
       "1           158           Cash             13            4.1              4.0   \n",
       "2           386            UPI             40            4.2              4.8   \n",
       "3           384        Unknown              0            0.0              0.0   \n",
       "4           822    Credit Card             45            4.0              3.0   \n",
       "\n",
       "                                      Vehicle Images  DayOfWeek Hour  \n",
       "0  https://cdn-icons-png.flaticon.com/128/14183/1...     Friday   14  \n",
       "1  https://cdn-icons-png.flaticon.com/128/9983/99...   Thursday   22  \n",
       "2  https://cdn-icons-png.flaticon.com/128/9983/99...    Tuesday   19  \n",
       "3  https://cdn-icons-png.flaticon.com/128/6839/68...     Monday    3  \n",
       "4  https://cdn-icons-png.flaticon.com/128/3202/32...    Tuesday    9  \n",
       "\n",
       "[5 rows x 22 columns]"
      ]
     },
     "execution_count": 10,
     "metadata": {},
     "output_type": "execute_result"
    }
   ],
   "source": [
    "df.head()"
   ]
  },
  {
   "cell_type": "code",
   "execution_count": 11,
   "id": "14dbe69f",
   "metadata": {},
   "outputs": [],
   "source": [
    "# Download the cleaned dataset as CSV in Jupyter Notebook\n",
    "#df_cleaned.to_csv('cleaned_ola_rides.csv', index=False)\n",
    "#print('Dataset saved as cleaned_ola_rides.csv')"
   ]
  },
  {
   "cell_type": "markdown",
   "id": "fec4a0eb",
   "metadata": {},
   "source": [
    " Now, we have cleaned \"OLA RIDES DATASET- JULY\", and named it \"cleaned_ola_rides.csv\" so will be working on this new dataset. "
   ]
  },
  {
   "cell_type": "markdown",
   "id": "e3e3ed35",
   "metadata": {},
   "source": [
    " Working on \"cleaned_ola_rides.csv\"."
   ]
  },
  {
   "cell_type": "markdown",
   "id": "42f4b5f3",
   "metadata": {},
   "source": [
    "### SQL Query Development\n",
    " From here we begin our SQL queries\n"
   ]
  },
  {
   "cell_type": "code",
   "execution_count": 12,
   "id": "ff155725",
   "metadata": {},
   "outputs": [
    {
     "name": "stdout",
     "output_type": "stream",
     "text": [
      "SQLite database created and data imported!\n"
     ]
    }
   ],
   "source": [
    "# Connect to SQLite Database and import CSV data\n",
    "import sqlite3\n",
    "import pandas as pd\n",
    "\n",
    "# Load the CSV data\n",
    "df = pd.read_csv('C:\\\\Users\\\\anous\\\\OneDrive\\\\PROJECTS\\\\OLA RIDES ANALYSIS\\\\cleaned_ola_rides.csv')\n",
    "\n",
    "# Connect to SQLite (creates file if it doesn't exist)\n",
    "conn = sqlite3.connect('ola_rides.db')\n",
    "\n",
    "# Write DataFrame to SQL table 'rides'\n",
    "df.to_sql('rides', conn, if_exists='replace', index=False)\n",
    "print('SQLite database created and data imported!')"
   ]
  },
  {
   "cell_type": "code",
   "execution_count": 13,
   "id": "9675f28d",
   "metadata": {},
   "outputs": [
    {
     "name": "stdout",
     "output_type": "stream",
     "text": [
      "['Date', 'Time', 'Booking_ID', 'Booking_Status', 'Customer_ID', 'Vehicle_Type', 'Pickup_Location', 'Drop_Location', 'V_TAT', 'C_TAT', 'Canceled_Rides_by_Customer', 'Canceled_Rides_by_Driver', 'Incomplete_Rides', 'Incomplete_Rides_Reason', 'Booking_Value', 'Payment_Method', 'Ride_Distance', 'Driver_Ratings', 'Customer_Rating', 'Vehicle Images', 'DayOfWeek', 'Hour']\n"
     ]
    }
   ],
   "source": [
    "# Show all columns in the rides table\n",
    "print(df.columns.tolist())"
   ]
  },
  {
   "cell_type": "code",
   "execution_count": 14,
   "id": "6c7dc62d",
   "metadata": {},
   "outputs": [],
   "source": [
    "# Example: Run SQL queries from notebook and display results as DataFrame\n",
    "def run_query(query):\n",
    "    return pd.read_sql_query(query, conn)\n",
    "\n"
   ]
  },
  {
   "cell_type": "markdown",
   "id": "14fab9c5",
   "metadata": {},
   "source": [
    "## 1. Retrieve all successful bookings"
   ]
  },
  {
   "cell_type": "code",
   "execution_count": 15,
   "id": "a272cb60",
   "metadata": {},
   "outputs": [
    {
     "name": "stdout",
     "output_type": "stream",
     "text": [
      "1. Retrieve all successful bookings:\n"
     ]
    },
    {
     "data": {
      "text/html": [
       "<div>\n",
       "<style scoped>\n",
       "    .dataframe tbody tr th:only-of-type {\n",
       "        vertical-align: middle;\n",
       "    }\n",
       "\n",
       "    .dataframe tbody tr th {\n",
       "        vertical-align: top;\n",
       "    }\n",
       "\n",
       "    .dataframe thead th {\n",
       "        text-align: right;\n",
       "    }\n",
       "</style>\n",
       "<table border=\"1\" class=\"dataframe\">\n",
       "  <thead>\n",
       "    <tr style=\"text-align: right;\">\n",
       "      <th></th>\n",
       "      <th>successful_bookings</th>\n",
       "    </tr>\n",
       "  </thead>\n",
       "  <tbody>\n",
       "    <tr>\n",
       "      <th>0</th>\n",
       "      <td>63967</td>\n",
       "    </tr>\n",
       "  </tbody>\n",
       "</table>\n",
       "</div>"
      ],
      "text/plain": [
       "   successful_bookings\n",
       "0                63967"
      ]
     },
     "metadata": {},
     "output_type": "display_data"
    }
   ],
   "source": [
    "# 1. Retrieve all successful bookings:\n",
    "print(\"1. Retrieve all successful bookings:\")\n",
    "query1 = \"SELECT COUNT(*) AS successful_bookings FROM rides WHERE Booking_Status = 'Success';\"\n",
    "df_successful = run_query(query1)\n",
    "display(df_successful.head())"
   ]
  },
  {
   "cell_type": "markdown",
   "id": "25e31d7b",
   "metadata": {},
   "source": [
    "##  2. Find the average ride distance for each vehicle type:\n"
   ]
  },
  {
   "cell_type": "code",
   "execution_count": 16,
   "id": "8cd2494a",
   "metadata": {},
   "outputs": [
    {
     "name": "stdout",
     "output_type": "stream",
     "text": [
      "2. Find the average ride distance for each vehicle type:\n"
     ]
    },
    {
     "data": {
      "text/html": [
       "<div>\n",
       "<style scoped>\n",
       "    .dataframe tbody tr th:only-of-type {\n",
       "        vertical-align: middle;\n",
       "    }\n",
       "\n",
       "    .dataframe tbody tr th {\n",
       "        vertical-align: top;\n",
       "    }\n",
       "\n",
       "    .dataframe thead th {\n",
       "        text-align: right;\n",
       "    }\n",
       "</style>\n",
       "<table border=\"1\" class=\"dataframe\">\n",
       "  <thead>\n",
       "    <tr style=\"text-align: right;\">\n",
       "      <th></th>\n",
       "      <th>Vehicle_Type</th>\n",
       "      <th>avg_distance</th>\n",
       "    </tr>\n",
       "  </thead>\n",
       "  <tbody>\n",
       "    <tr>\n",
       "      <th>0</th>\n",
       "      <td>Auto</td>\n",
       "      <td>6.238089</td>\n",
       "    </tr>\n",
       "    <tr>\n",
       "      <th>1</th>\n",
       "      <td>Bike</td>\n",
       "      <td>15.533079</td>\n",
       "    </tr>\n",
       "    <tr>\n",
       "      <th>2</th>\n",
       "      <td>Mini</td>\n",
       "      <td>15.510102</td>\n",
       "    </tr>\n",
       "    <tr>\n",
       "      <th>3</th>\n",
       "      <td>Prime Plus</td>\n",
       "      <td>15.447474</td>\n",
       "    </tr>\n",
       "    <tr>\n",
       "      <th>4</th>\n",
       "      <td>Prime SUV</td>\n",
       "      <td>15.274514</td>\n",
       "    </tr>\n",
       "    <tr>\n",
       "      <th>5</th>\n",
       "      <td>Prime Sedan</td>\n",
       "      <td>15.764939</td>\n",
       "    </tr>\n",
       "    <tr>\n",
       "      <th>6</th>\n",
       "      <td>eBike</td>\n",
       "      <td>15.580589</td>\n",
       "    </tr>\n",
       "  </tbody>\n",
       "</table>\n",
       "</div>"
      ],
      "text/plain": [
       "  Vehicle_Type  avg_distance\n",
       "0         Auto      6.238089\n",
       "1         Bike     15.533079\n",
       "2         Mini     15.510102\n",
       "3   Prime Plus     15.447474\n",
       "4    Prime SUV     15.274514\n",
       "5  Prime Sedan     15.764939\n",
       "6        eBike     15.580589"
      ]
     },
     "metadata": {},
     "output_type": "display_data"
    }
   ],
   "source": [
    "\n",
    "# 2. Find the average ride distance for each vehicle type:\n",
    "print(\"2. Find the average ride distance for each vehicle type:\")\n",
    "query2 = \"SELECT Vehicle_Type, AVG(Ride_Distance) AS avg_distance FROM rides GROUP BY Vehicle_Type;\"\n",
    "df_avg_distance = run_query(query2)\n",
    "display(df_avg_distance)\n"
   ]
  },
  {
   "cell_type": "markdown",
   "id": "1280c637",
   "metadata": {},
   "source": [
    "## 3. List the top 5 customers who booked the highest number of rides:\n"
   ]
  },
  {
   "cell_type": "code",
   "execution_count": 17,
   "id": "0f42c971",
   "metadata": {},
   "outputs": [
    {
     "name": "stdout",
     "output_type": "stream",
     "text": [
      "3. List the top 5 customers who booked the highest number of rides:\n"
     ]
    },
    {
     "data": {
      "text/html": [
       "<div>\n",
       "<style scoped>\n",
       "    .dataframe tbody tr th:only-of-type {\n",
       "        vertical-align: middle;\n",
       "    }\n",
       "\n",
       "    .dataframe tbody tr th {\n",
       "        vertical-align: top;\n",
       "    }\n",
       "\n",
       "    .dataframe thead th {\n",
       "        text-align: right;\n",
       "    }\n",
       "</style>\n",
       "<table border=\"1\" class=\"dataframe\">\n",
       "  <thead>\n",
       "    <tr style=\"text-align: right;\">\n",
       "      <th></th>\n",
       "      <th>Customer_ID</th>\n",
       "      <th>ride_count</th>\n",
       "    </tr>\n",
       "  </thead>\n",
       "  <tbody>\n",
       "    <tr>\n",
       "      <th>0</th>\n",
       "      <td>CID954071</td>\n",
       "      <td>5</td>\n",
       "    </tr>\n",
       "    <tr>\n",
       "      <th>1</th>\n",
       "      <td>CID980727</td>\n",
       "      <td>4</td>\n",
       "    </tr>\n",
       "    <tr>\n",
       "      <th>2</th>\n",
       "      <td>CID969725</td>\n",
       "      <td>4</td>\n",
       "    </tr>\n",
       "    <tr>\n",
       "      <th>3</th>\n",
       "      <td>CID966929</td>\n",
       "      <td>4</td>\n",
       "    </tr>\n",
       "    <tr>\n",
       "      <th>4</th>\n",
       "      <td>CID952434</td>\n",
       "      <td>4</td>\n",
       "    </tr>\n",
       "  </tbody>\n",
       "</table>\n",
       "</div>"
      ],
      "text/plain": [
       "  Customer_ID  ride_count\n",
       "0   CID954071           5\n",
       "1   CID980727           4\n",
       "2   CID969725           4\n",
       "3   CID966929           4\n",
       "4   CID952434           4"
      ]
     },
     "metadata": {},
     "output_type": "display_data"
    }
   ],
   "source": [
    "\n",
    "# 3. List the top 5 customers who booked the highest number of rides:\n",
    "print(\"3. List the top 5 customers who booked the highest number of rides:\")\n",
    "query3 = \"SELECT Customer_ID, COUNT(*) AS ride_count FROM rides GROUP BY Customer_ID ORDER BY ride_count DESC LIMIT 5;\"\n",
    "df_top_customers = run_query(query3)\n",
    "display(df_top_customers)"
   ]
  },
  {
   "cell_type": "markdown",
   "id": "eec1c53b",
   "metadata": {},
   "source": [
    "## 4.  For the top 5 customers with the highest number of rides, show what vehicle types they used\n"
   ]
  },
  {
   "cell_type": "code",
   "execution_count": 18,
   "id": "fa68e8e3",
   "metadata": {},
   "outputs": [
    {
     "name": "stdout",
     "output_type": "stream",
     "text": [
      "Vehicle types used by the top 5 customers with the highest number of rides:\n"
     ]
    },
    {
     "data": {
      "text/html": [
       "<div>\n",
       "<style scoped>\n",
       "    .dataframe tbody tr th:only-of-type {\n",
       "        vertical-align: middle;\n",
       "    }\n",
       "\n",
       "    .dataframe tbody tr th {\n",
       "        vertical-align: top;\n",
       "    }\n",
       "\n",
       "    .dataframe thead th {\n",
       "        text-align: right;\n",
       "    }\n",
       "</style>\n",
       "<table border=\"1\" class=\"dataframe\">\n",
       "  <thead>\n",
       "    <tr style=\"text-align: right;\">\n",
       "      <th></th>\n",
       "      <th>Customer_ID</th>\n",
       "      <th>Vehicle_Type</th>\n",
       "      <th>ride_count</th>\n",
       "    </tr>\n",
       "  </thead>\n",
       "  <tbody>\n",
       "    <tr>\n",
       "      <th>0</th>\n",
       "      <td>CID952434</td>\n",
       "      <td>Bike</td>\n",
       "      <td>4</td>\n",
       "    </tr>\n",
       "    <tr>\n",
       "      <th>1</th>\n",
       "      <td>CID954071</td>\n",
       "      <td>Prime Sedan</td>\n",
       "      <td>2</td>\n",
       "    </tr>\n",
       "    <tr>\n",
       "      <th>2</th>\n",
       "      <td>CID954071</td>\n",
       "      <td>Mini</td>\n",
       "      <td>2</td>\n",
       "    </tr>\n",
       "    <tr>\n",
       "      <th>3</th>\n",
       "      <td>CID954071</td>\n",
       "      <td>Prime SUV</td>\n",
       "      <td>1</td>\n",
       "    </tr>\n",
       "    <tr>\n",
       "      <th>4</th>\n",
       "      <td>CID966929</td>\n",
       "      <td>Mini</td>\n",
       "      <td>3</td>\n",
       "    </tr>\n",
       "    <tr>\n",
       "      <th>5</th>\n",
       "      <td>CID966929</td>\n",
       "      <td>Prime SUV</td>\n",
       "      <td>1</td>\n",
       "    </tr>\n",
       "    <tr>\n",
       "      <th>6</th>\n",
       "      <td>CID969725</td>\n",
       "      <td>Mini</td>\n",
       "      <td>2</td>\n",
       "    </tr>\n",
       "    <tr>\n",
       "      <th>7</th>\n",
       "      <td>CID969725</td>\n",
       "      <td>Prime SUV</td>\n",
       "      <td>1</td>\n",
       "    </tr>\n",
       "    <tr>\n",
       "      <th>8</th>\n",
       "      <td>CID969725</td>\n",
       "      <td>Prime Plus</td>\n",
       "      <td>1</td>\n",
       "    </tr>\n",
       "    <tr>\n",
       "      <th>9</th>\n",
       "      <td>CID980727</td>\n",
       "      <td>Prime SUV</td>\n",
       "      <td>2</td>\n",
       "    </tr>\n",
       "    <tr>\n",
       "      <th>10</th>\n",
       "      <td>CID980727</td>\n",
       "      <td>Bike</td>\n",
       "      <td>2</td>\n",
       "    </tr>\n",
       "  </tbody>\n",
       "</table>\n",
       "</div>"
      ],
      "text/plain": [
       "   Customer_ID Vehicle_Type  ride_count\n",
       "0    CID952434         Bike           4\n",
       "1    CID954071  Prime Sedan           2\n",
       "2    CID954071         Mini           2\n",
       "3    CID954071    Prime SUV           1\n",
       "4    CID966929         Mini           3\n",
       "5    CID966929    Prime SUV           1\n",
       "6    CID969725         Mini           2\n",
       "7    CID969725    Prime SUV           1\n",
       "8    CID969725   Prime Plus           1\n",
       "9    CID980727    Prime SUV           2\n",
       "10   CID980727         Bike           2"
      ]
     },
     "metadata": {},
     "output_type": "display_data"
    }
   ],
   "source": [
    "# 4.  For the top 5 customers with the highest number of rides, show what vehicle types they used\n",
    "print(\"Vehicle types used by the top 5 customers with the highest number of rides:\")\n",
    "query4 = '''\n",
    "WITH top_customers AS (\n",
    "    SELECT Customer_ID\n",
    "    FROM rides\n",
    "    GROUP BY Customer_ID\n",
    "    ORDER BY COUNT(*) DESC\n",
    "    LIMIT 5\n",
    ")\n",
    "SELECT r.Customer_ID, r.Vehicle_Type, COUNT(*) AS ride_count\n",
    "FROM rides r\n",
    "JOIN top_customers t ON r.Customer_ID = t.Customer_ID\n",
    "GROUP BY r.Customer_ID, r.Vehicle_Type\n",
    "ORDER BY r.Customer_ID, ride_count DESC;\n",
    "'''\n",
    "df_top5_vehicle_types = run_query(query4)\n",
    "display(df_top5_vehicle_types)"
   ]
  },
  {
   "cell_type": "markdown",
   "id": "d612031c",
   "metadata": {},
   "source": [
    "## 5. Show the count of each booking status\n"
   ]
  },
  {
   "cell_type": "code",
   "execution_count": 19,
   "id": "c2948542",
   "metadata": {},
   "outputs": [
    {
     "name": "stdout",
     "output_type": "stream",
     "text": [
      "Count of each booking status:\n"
     ]
    },
    {
     "data": {
      "text/html": [
       "<div>\n",
       "<style scoped>\n",
       "    .dataframe tbody tr th:only-of-type {\n",
       "        vertical-align: middle;\n",
       "    }\n",
       "\n",
       "    .dataframe tbody tr th {\n",
       "        vertical-align: top;\n",
       "    }\n",
       "\n",
       "    .dataframe thead th {\n",
       "        text-align: right;\n",
       "    }\n",
       "</style>\n",
       "<table border=\"1\" class=\"dataframe\">\n",
       "  <thead>\n",
       "    <tr style=\"text-align: right;\">\n",
       "      <th></th>\n",
       "      <th>Booking_Status</th>\n",
       "      <th>status_count</th>\n",
       "    </tr>\n",
       "  </thead>\n",
       "  <tbody>\n",
       "    <tr>\n",
       "      <th>0</th>\n",
       "      <td>Canceled by Customer</td>\n",
       "      <td>10499</td>\n",
       "    </tr>\n",
       "    <tr>\n",
       "      <th>1</th>\n",
       "      <td>Canceled by Driver</td>\n",
       "      <td>18434</td>\n",
       "    </tr>\n",
       "    <tr>\n",
       "      <th>2</th>\n",
       "      <td>Driver Not Found</td>\n",
       "      <td>10124</td>\n",
       "    </tr>\n",
       "    <tr>\n",
       "      <th>3</th>\n",
       "      <td>Success</td>\n",
       "      <td>63967</td>\n",
       "    </tr>\n",
       "  </tbody>\n",
       "</table>\n",
       "</div>"
      ],
      "text/plain": [
       "         Booking_Status  status_count\n",
       "0  Canceled by Customer         10499\n",
       "1    Canceled by Driver         18434\n",
       "2      Driver Not Found         10124\n",
       "3               Success         63967"
      ]
     },
     "metadata": {},
     "output_type": "display_data"
    }
   ],
   "source": [
    "# 5. Show the count of each booking status\n",
    "print(\"Count of each booking status:\")\n",
    "query5 = \"SELECT Booking_Status, COUNT(*) AS status_count FROM rides GROUP BY Booking_Status;\"\n",
    "df_booking_status_counts = run_query(query5)\n",
    "display(df_booking_status_counts)"
   ]
  },
  {
   "cell_type": "markdown",
   "id": "a2e4890c",
   "metadata": {},
   "source": [
    "## 6. Find the average driver ratings for Vehicle type bookings:\n"
   ]
  },
  {
   "cell_type": "code",
   "execution_count": 20,
   "metadata": {},
   "outputs": [
    {
     "name": "stdout",
     "output_type": "stream",
     "text": [
      "6. Find the average and minimum driver ratings for Vehicle type bookings:\n"
     ]
    },
    {
     "data": {
      "text/html": [
       "<div>\n",
       "<style scoped>\n",
       "    .dataframe tbody tr th:only-of-type {\n",
       "        vertical-align: middle;\n",
       "    }\n",
       "\n",
       "    .dataframe tbody tr th {\n",
       "        vertical-align: top;\n",
       "    }\n",
       "\n",
       "    .dataframe thead th {\n",
       "        text-align: right;\n",
       "    }\n",
       "</style>\n",
       "<table border=\"1\" class=\"dataframe\">\n",
       "  <thead>\n",
       "    <tr style=\"text-align: right;\">\n",
       "      <th></th>\n",
       "      <th>avg_rating</th>\n",
       "      <th>min_rating</th>\n",
       "    </tr>\n",
       "  </thead>\n",
       "  <tbody>\n",
       "    <tr>\n",
       "      <th>0</th>\n",
       "      <td>2.481997</td>\n",
       "      <td>0.0</td>\n",
       "    </tr>\n",
       "  </tbody>\n",
       "</table>\n",
       "</div>"
      ],
      "text/plain": [
       "   avg_rating  min_rating\n",
       "0    2.481997         0.0"
      ]
     },
     "metadata": {},
     "output_type": "display_data"
    }
   ],
   "source": [
    "# 6. Find the average driver ratings for Vehicle type bookings:\n",
    "print(\"6. Find the average and minimum driver ratings for Vehicle type bookings:\")\n",
    "query6 = \"SELECT AVG(Driver_Ratings) AS avg_rating, MIN(Driver_Ratings) AS min_rating FROM rides;\"\n",
    "df_vehicle_ratings = run_query(query6)\n",
    "display(df_vehicle_ratings)\n"
   ]
  },
  {
   "cell_type": "markdown",
   "id": "eee07649",
   "metadata": {},
   "source": [
    "## 7. Show the average customer rating for each vehicle type, sorted from highest to lowest\n"
   ]
  },
  {
   "cell_type": "code",
   "execution_count": 21,
   "id": "446b27c1",
   "metadata": {},
   "outputs": [
    {
     "name": "stdout",
     "output_type": "stream",
     "text": [
      "Average customer rating for each vehicle type (highest to lowest):\n"
     ]
    },
    {
     "data": {
      "text/html": [
       "<div>\n",
       "<style scoped>\n",
       "    .dataframe tbody tr th:only-of-type {\n",
       "        vertical-align: middle;\n",
       "    }\n",
       "\n",
       "    .dataframe tbody tr th {\n",
       "        vertical-align: top;\n",
       "    }\n",
       "\n",
       "    .dataframe thead th {\n",
       "        text-align: right;\n",
       "    }\n",
       "</style>\n",
       "<table border=\"1\" class=\"dataframe\">\n",
       "  <thead>\n",
       "    <tr style=\"text-align: right;\">\n",
       "      <th></th>\n",
       "      <th>Vehicle_Type</th>\n",
       "      <th>avg_customer_rating</th>\n",
       "    </tr>\n",
       "  </thead>\n",
       "  <tbody>\n",
       "    <tr>\n",
       "      <th>0</th>\n",
       "      <td>Prime Sedan</td>\n",
       "      <td>2.522747</td>\n",
       "    </tr>\n",
       "    <tr>\n",
       "      <th>1</th>\n",
       "      <td>Bike</td>\n",
       "      <td>2.487757</td>\n",
       "    </tr>\n",
       "    <tr>\n",
       "      <th>2</th>\n",
       "      <td>Auto</td>\n",
       "      <td>2.484385</td>\n",
       "    </tr>\n",
       "    <tr>\n",
       "      <th>3</th>\n",
       "      <td>Mini</td>\n",
       "      <td>2.482374</td>\n",
       "    </tr>\n",
       "    <tr>\n",
       "      <th>4</th>\n",
       "      <td>Prime Plus</td>\n",
       "      <td>2.474074</td>\n",
       "    </tr>\n",
       "    <tr>\n",
       "      <th>5</th>\n",
       "      <td>eBike</td>\n",
       "      <td>2.470876</td>\n",
       "    </tr>\n",
       "    <tr>\n",
       "      <th>6</th>\n",
       "      <td>Prime SUV</td>\n",
       "      <td>2.455026</td>\n",
       "    </tr>\n",
       "  </tbody>\n",
       "</table>\n",
       "</div>"
      ],
      "text/plain": [
       "  Vehicle_Type  avg_customer_rating\n",
       "0  Prime Sedan             2.522747\n",
       "1         Bike             2.487757\n",
       "2         Auto             2.484385\n",
       "3         Mini             2.482374\n",
       "4   Prime Plus             2.474074\n",
       "5        eBike             2.470876\n",
       "6    Prime SUV             2.455026"
      ]
     },
     "metadata": {},
     "output_type": "display_data"
    }
   ],
   "source": [
    "# 7. Show the average customer rating for each vehicle type, sorted from highest to lowest\n",
    "print(\"Average customer rating for each vehicle type (highest to lowest):\")\n",
    "query7 = \"SELECT Vehicle_Type, AVG(Customer_Rating) AS avg_customer_rating FROM rides GROUP BY Vehicle_Type ORDER BY avg_customer_rating DESC;\"\n",
    "df_avg_rating_per_vehicle = run_query(query7)\n",
    "display(df_avg_rating_per_vehicle)"
   ]
  },
  {
   "cell_type": "markdown",
   "id": "f6ba3704",
   "metadata": {},
   "source": [
    "## 8. Calculate the count of booking value of rides completed successfully\n"
   ]
  },
  {
   "cell_type": "code",
   "execution_count": 22,
   "id": "5752aa88",
   "metadata": {},
   "outputs": [
    {
     "name": "stdout",
     "output_type": "stream",
     "text": [
      "Total booking value of rides completed successfully:\n"
     ]
    },
    {
     "data": {
      "text/html": [
       "<div>\n",
       "<style scoped>\n",
       "    .dataframe tbody tr th:only-of-type {\n",
       "        vertical-align: middle;\n",
       "    }\n",
       "\n",
       "    .dataframe tbody tr th {\n",
       "        vertical-align: top;\n",
       "    }\n",
       "\n",
       "    .dataframe thead th {\n",
       "        text-align: right;\n",
       "    }\n",
       "</style>\n",
       "<table border=\"1\" class=\"dataframe\">\n",
       "  <thead>\n",
       "    <tr style=\"text-align: right;\">\n",
       "      <th></th>\n",
       "      <th>total_successful_booking_value_completed_successfully</th>\n",
       "    </tr>\n",
       "  </thead>\n",
       "  <tbody>\n",
       "    <tr>\n",
       "      <th>0</th>\n",
       "      <td>63967</td>\n",
       "    </tr>\n",
       "  </tbody>\n",
       "</table>\n",
       "</div>"
      ],
      "text/plain": [
       "   total_successful_booking_value_completed_successfully\n",
       "0                                              63967    "
      ]
     },
     "metadata": {},
     "output_type": "display_data"
    }
   ],
   "source": [
    "\n",
    "# 8. Calculate the count of booking value of rides completed successfully\n",
    "print(\"Total booking value of rides completed successfully:\")\n",
    "query8 = \"SELECT count(Booking_Value) AS total_successful_booking_value_completed_successfully FROM rides WHERE Booking_Status = 'Success' ;\"\n",
    "df_total_booking_value_completed_successfully = run_query(query8)\n",
    "display(df_total_booking_value_completed_successfully)"
   ]
  },
  {
   "cell_type": "markdown",
   "id": "7efc2b19",
   "metadata": {},
   "source": [
    "## 9. Calculate the total booking value of rides Cancelled by customers\n"
   ]
  },
  {
   "cell_type": "code",
   "execution_count": 23,
   "id": "2f38f936",
   "metadata": {},
   "outputs": [
    {
     "name": "stdout",
     "output_type": "stream",
     "text": [
      "Total booking value of rides Cancelled by customers:\n"
     ]
    },
    {
     "data": {
      "text/html": [
       "<div>\n",
       "<style scoped>\n",
       "    .dataframe tbody tr th:only-of-type {\n",
       "        vertical-align: middle;\n",
       "    }\n",
       "\n",
       "    .dataframe tbody tr th {\n",
       "        vertical-align: top;\n",
       "    }\n",
       "\n",
       "    .dataframe thead th {\n",
       "        text-align: right;\n",
       "    }\n",
       "</style>\n",
       "<table border=\"1\" class=\"dataframe\">\n",
       "  <thead>\n",
       "    <tr style=\"text-align: right;\">\n",
       "      <th></th>\n",
       "      <th>total_cancelled_booking_value_cancelled_by_customers</th>\n",
       "    </tr>\n",
       "  </thead>\n",
       "  <tbody>\n",
       "    <tr>\n",
       "      <th>0</th>\n",
       "      <td>10499</td>\n",
       "    </tr>\n",
       "  </tbody>\n",
       "</table>\n",
       "</div>"
      ],
      "text/plain": [
       "   total_cancelled_booking_value_cancelled_by_customers\n",
       "0                                              10499   "
      ]
     },
     "metadata": {},
     "output_type": "display_data"
    }
   ],
   "source": [
    "# 9. Calculate the total booking value of rides Cancelled by customers\n",
    "print(\"Total booking value of rides Cancelled by customers:\")\n",
    "query9 = \"SELECT count(Booking_Value) AS total_cancelled_booking_value_cancelled_by_customers FROM rides WHERE Booking_Status = 'Canceled by Customer' ;\"\n",
    "df_total_booking_value_cancelled_by_customers = run_query(query9)\n",
    "display(df_total_booking_value_cancelled_by_customers)"
   ]
  },
  {
   "cell_type": "markdown",
   "id": "f68cb75d",
   "metadata": {},
   "source": [
    "\n",
    "## 10. Calculate the total booking value of rides Driver Not Found\n"
   ]
  },
  {
   "cell_type": "code",
   "execution_count": 24,
   "id": "2982712d",
   "metadata": {},
   "outputs": [
    {
     "name": "stdout",
     "output_type": "stream",
     "text": [
      "Total booking value of rides Driver Not Found:\n"
     ]
    },
    {
     "data": {
      "text/html": [
       "<div>\n",
       "<style scoped>\n",
       "    .dataframe tbody tr th:only-of-type {\n",
       "        vertical-align: middle;\n",
       "    }\n",
       "\n",
       "    .dataframe tbody tr th {\n",
       "        vertical-align: top;\n",
       "    }\n",
       "\n",
       "    .dataframe thead th {\n",
       "        text-align: right;\n",
       "    }\n",
       "</style>\n",
       "<table border=\"1\" class=\"dataframe\">\n",
       "  <thead>\n",
       "    <tr style=\"text-align: right;\">\n",
       "      <th></th>\n",
       "      <th>total_cancelled_booking_value_driver_not_found</th>\n",
       "    </tr>\n",
       "  </thead>\n",
       "  <tbody>\n",
       "    <tr>\n",
       "      <th>0</th>\n",
       "      <td>10124</td>\n",
       "    </tr>\n",
       "  </tbody>\n",
       "</table>\n",
       "</div>"
      ],
      "text/plain": [
       "   total_cancelled_booking_value_driver_not_found\n",
       "0                                           10124"
      ]
     },
     "metadata": {},
     "output_type": "display_data"
    }
   ],
   "source": [
    "# 10. Calculate the total booking value of rides Driver Not Found\n",
    "print(\"Total booking value of rides Driver Not Found:\")\n",
    "query10 = \"SELECT count(Booking_Value) AS total_cancelled_booking_value_driver_not_found FROM rides WHERE Booking_Status = 'Driver Not Found' ;\"\n",
    "df_total_booking_value_driver_not_found = run_query(query10)\n",
    "display(df_total_booking_value_driver_not_found)"
   ]
  },
  {
   "cell_type": "markdown",
   "id": "a001dba4",
   "metadata": {},
   "source": [
    "## 11. Calculate the total booking value of rides Cancelled by drivers\n"
   ]
  },
  {
   "cell_type": "code",
   "execution_count": 25,
   "id": "e665e018",
   "metadata": {},
   "outputs": [
    {
     "name": "stdout",
     "output_type": "stream",
     "text": [
      "Total booking value of rides Cancelled by drivers:\n"
     ]
    },
    {
     "data": {
      "text/html": [
       "<div>\n",
       "<style scoped>\n",
       "    .dataframe tbody tr th:only-of-type {\n",
       "        vertical-align: middle;\n",
       "    }\n",
       "\n",
       "    .dataframe tbody tr th {\n",
       "        vertical-align: top;\n",
       "    }\n",
       "\n",
       "    .dataframe thead th {\n",
       "        text-align: right;\n",
       "    }\n",
       "</style>\n",
       "<table border=\"1\" class=\"dataframe\">\n",
       "  <thead>\n",
       "    <tr style=\"text-align: right;\">\n",
       "      <th></th>\n",
       "      <th>total_cancelled_booking_value_cancelled_by_drivers</th>\n",
       "    </tr>\n",
       "  </thead>\n",
       "  <tbody>\n",
       "    <tr>\n",
       "      <th>0</th>\n",
       "      <td>18434</td>\n",
       "    </tr>\n",
       "  </tbody>\n",
       "</table>\n",
       "</div>"
      ],
      "text/plain": [
       "   total_cancelled_booking_value_cancelled_by_drivers\n",
       "0                                              18434 "
      ]
     },
     "metadata": {},
     "output_type": "display_data"
    }
   ],
   "source": [
    "# 11. Calculate the total booking value of rides Cancelled by drivers\n",
    "print(\"Total booking value of rides Cancelled by drivers:\")\n",
    "query11 = \"SELECT count(Booking_Value) AS total_cancelled_booking_value_cancelled_by_drivers FROM rides WHERE Booking_Status = 'Canceled by Driver' ;\"\n",
    "df_total_booking_value_cancelled_by_drivers = run_query(query11)\n",
    "display(df_total_booking_value_cancelled_by_drivers)"
   ]
  },
  {
   "cell_type": "markdown",
   "id": "34eaaf67",
   "metadata": {},
   "source": [
    "## 12. Show the total count of each payment method (excluding 'Unknown')\n"
   ]
  },
  {
   "cell_type": "code",
   "execution_count": 26,
   "id": "b63d39c9",
   "metadata": {},
   "outputs": [
    {
     "name": "stdout",
     "output_type": "stream",
     "text": [
      "Total count of each payment method (excluding 'Unknown'):\n"
     ]
    },
    {
     "data": {
      "text/html": [
       "<div>\n",
       "<style scoped>\n",
       "    .dataframe tbody tr th:only-of-type {\n",
       "        vertical-align: middle;\n",
       "    }\n",
       "\n",
       "    .dataframe tbody tr th {\n",
       "        vertical-align: top;\n",
       "    }\n",
       "\n",
       "    .dataframe thead th {\n",
       "        text-align: right;\n",
       "    }\n",
       "</style>\n",
       "<table border=\"1\" class=\"dataframe\">\n",
       "  <thead>\n",
       "    <tr style=\"text-align: right;\">\n",
       "      <th></th>\n",
       "      <th>Payment_Method</th>\n",
       "      <th>method_count</th>\n",
       "    </tr>\n",
       "  </thead>\n",
       "  <tbody>\n",
       "    <tr>\n",
       "      <th>0</th>\n",
       "      <td>Cash</td>\n",
       "      <td>35022</td>\n",
       "    </tr>\n",
       "    <tr>\n",
       "      <th>1</th>\n",
       "      <td>Credit Card</td>\n",
       "      <td>2435</td>\n",
       "    </tr>\n",
       "    <tr>\n",
       "      <th>2</th>\n",
       "      <td>Debit Card</td>\n",
       "      <td>629</td>\n",
       "    </tr>\n",
       "    <tr>\n",
       "      <th>3</th>\n",
       "      <td>UPI</td>\n",
       "      <td>25881</td>\n",
       "    </tr>\n",
       "  </tbody>\n",
       "</table>\n",
       "</div>"
      ],
      "text/plain": [
       "  Payment_Method  method_count\n",
       "0           Cash         35022\n",
       "1    Credit Card          2435\n",
       "2     Debit Card           629\n",
       "3            UPI         25881"
      ]
     },
     "metadata": {},
     "output_type": "display_data"
    }
   ],
   "source": [
    "# 12. Show the total count of each payment method (excluding 'Unknown')\n",
    "print(\"Total count of each payment method (excluding 'Unknown'):\")\n",
    "query12 = \"SELECT Payment_Method, COUNT(*) AS method_count FROM rides WHERE Payment_Method != 'Unknown' GROUP BY Payment_Method;\"\n",
    "df_payment_method_counts = run_query(query12)\n",
    "display(df_payment_method_counts)"
   ]
  },
  {
   "cell_type": "markdown",
   "id": "59ed1e24",
   "metadata": {},
   "source": [
    "## 13. what is the total number of rides for each day of the week? (descending order)\n"
   ]
  },
  {
   "cell_type": "code",
   "execution_count": 27,
   "id": "5f500dbf",
   "metadata": {},
   "outputs": [
    {
     "name": "stdout",
     "output_type": "stream",
     "text": [
      "Total number of rides for each day of the week:\n"
     ]
    },
    {
     "data": {
      "text/html": [
       "<div>\n",
       "<style scoped>\n",
       "    .dataframe tbody tr th:only-of-type {\n",
       "        vertical-align: middle;\n",
       "    }\n",
       "\n",
       "    .dataframe tbody tr th {\n",
       "        vertical-align: top;\n",
       "    }\n",
       "\n",
       "    .dataframe thead th {\n",
       "        text-align: right;\n",
       "    }\n",
       "</style>\n",
       "<table border=\"1\" class=\"dataframe\">\n",
       "  <thead>\n",
       "    <tr style=\"text-align: right;\">\n",
       "      <th></th>\n",
       "      <th>DayOfWeek</th>\n",
       "      <th>total_rides</th>\n",
       "    </tr>\n",
       "  </thead>\n",
       "  <tbody>\n",
       "    <tr>\n",
       "      <th>0</th>\n",
       "      <td>NaN</td>\n",
       "      <td>42976</td>\n",
       "    </tr>\n",
       "    <tr>\n",
       "      <th>1</th>\n",
       "      <td>Monday</td>\n",
       "      <td>9843</td>\n",
       "    </tr>\n",
       "    <tr>\n",
       "      <th>2</th>\n",
       "      <td>Tuesday</td>\n",
       "      <td>9786</td>\n",
       "    </tr>\n",
       "    <tr>\n",
       "      <th>3</th>\n",
       "      <td>Wednesday</td>\n",
       "      <td>9519</td>\n",
       "    </tr>\n",
       "    <tr>\n",
       "      <th>4</th>\n",
       "      <td>Friday</td>\n",
       "      <td>7865</td>\n",
       "    </tr>\n",
       "    <tr>\n",
       "      <th>5</th>\n",
       "      <td>Thursday</td>\n",
       "      <td>7747</td>\n",
       "    </tr>\n",
       "    <tr>\n",
       "      <th>6</th>\n",
       "      <td>Saturday</td>\n",
       "      <td>7682</td>\n",
       "    </tr>\n",
       "    <tr>\n",
       "      <th>7</th>\n",
       "      <td>Sunday</td>\n",
       "      <td>7606</td>\n",
       "    </tr>\n",
       "  </tbody>\n",
       "</table>\n",
       "</div>"
      ],
      "text/plain": [
       "   DayOfWeek  total_rides\n",
       "0        NaN        42976\n",
       "1     Monday         9843\n",
       "2    Tuesday         9786\n",
       "3  Wednesday         9519\n",
       "4     Friday         7865\n",
       "5   Thursday         7747\n",
       "6   Saturday         7682\n",
       "7     Sunday         7606"
      ]
     },
     "metadata": {},
     "output_type": "display_data"
    }
   ],
   "source": [
    "# 13. what is the total number of rides for each day of the week? (descending order)\n",
    "print(\"Total number of rides for each day of the week:\")\n",
    "day_map = {'0': 'Sunday', '1': 'Monday', '2': 'Tuesday', '3': 'Wednesday', '4': 'Thursday', '5': 'Friday', '6': 'Saturday'}\n",
    "query13 = \"SELECT strftime('%w', Date) AS DayOfWeekNum, COUNT(*) AS total_rides FROM rides GROUP BY DayOfWeekNum ORDER BY total_rides DESC;\"\n",
    "df_total_rides_per_day = run_query(query13)\n",
    "df_total_rides_per_day['DayOfWeek'] = df_total_rides_per_day['DayOfWeekNum'].map(day_map)\n",
    "df_total_rides_per_day = df_total_rides_per_day[['DayOfWeek', 'total_rides']]\n",
    "display(df_total_rides_per_day)"
   ]
  },
  {
   "cell_type": "markdown",
   "id": "0e99a39d",
   "metadata": {},
   "source": [
    "## 14. Total highest booking done every hour of the day\n"
   ]
  },
  {
   "cell_type": "code",
   "execution_count": 28,
   "id": "7f99c7c1",
   "metadata": {},
   "outputs": [
    {
     "name": "stdout",
     "output_type": "stream",
     "text": [
      "Total highest booking done every hour of the day:\n"
     ]
    },
    {
     "data": {
      "text/html": [
       "<div>\n",
       "<style scoped>\n",
       "    .dataframe tbody tr th:only-of-type {\n",
       "        vertical-align: middle;\n",
       "    }\n",
       "\n",
       "    .dataframe tbody tr th {\n",
       "        vertical-align: top;\n",
       "    }\n",
       "\n",
       "    .dataframe thead th {\n",
       "        text-align: right;\n",
       "    }\n",
       "</style>\n",
       "<table border=\"1\" class=\"dataframe\">\n",
       "  <thead>\n",
       "    <tr style=\"text-align: right;\">\n",
       "      <th></th>\n",
       "      <th>booking_hour</th>\n",
       "      <th>total_bookings</th>\n",
       "    </tr>\n",
       "  </thead>\n",
       "  <tbody>\n",
       "    <tr>\n",
       "      <th>0</th>\n",
       "      <td>0</td>\n",
       "      <td>4318</td>\n",
       "    </tr>\n",
       "    <tr>\n",
       "      <th>1</th>\n",
       "      <td>1</td>\n",
       "      <td>4329</td>\n",
       "    </tr>\n",
       "    <tr>\n",
       "      <th>2</th>\n",
       "      <td>2</td>\n",
       "      <td>4305</td>\n",
       "    </tr>\n",
       "    <tr>\n",
       "      <th>3</th>\n",
       "      <td>3</td>\n",
       "      <td>4201</td>\n",
       "    </tr>\n",
       "    <tr>\n",
       "      <th>4</th>\n",
       "      <td>4</td>\n",
       "      <td>4263</td>\n",
       "    </tr>\n",
       "    <tr>\n",
       "      <th>5</th>\n",
       "      <td>5</td>\n",
       "      <td>4264</td>\n",
       "    </tr>\n",
       "    <tr>\n",
       "      <th>6</th>\n",
       "      <td>6</td>\n",
       "      <td>4271</td>\n",
       "    </tr>\n",
       "    <tr>\n",
       "      <th>7</th>\n",
       "      <td>7</td>\n",
       "      <td>4304</td>\n",
       "    </tr>\n",
       "    <tr>\n",
       "      <th>8</th>\n",
       "      <td>8</td>\n",
       "      <td>4374</td>\n",
       "    </tr>\n",
       "    <tr>\n",
       "      <th>9</th>\n",
       "      <td>9</td>\n",
       "      <td>4347</td>\n",
       "    </tr>\n",
       "    <tr>\n",
       "      <th>10</th>\n",
       "      <td>10</td>\n",
       "      <td>4334</td>\n",
       "    </tr>\n",
       "    <tr>\n",
       "      <th>11</th>\n",
       "      <td>11</td>\n",
       "      <td>4272</td>\n",
       "    </tr>\n",
       "    <tr>\n",
       "      <th>12</th>\n",
       "      <td>12</td>\n",
       "      <td>4408</td>\n",
       "    </tr>\n",
       "    <tr>\n",
       "      <th>13</th>\n",
       "      <td>13</td>\n",
       "      <td>4285</td>\n",
       "    </tr>\n",
       "    <tr>\n",
       "      <th>14</th>\n",
       "      <td>14</td>\n",
       "      <td>4232</td>\n",
       "    </tr>\n",
       "    <tr>\n",
       "      <th>15</th>\n",
       "      <td>15</td>\n",
       "      <td>4376</td>\n",
       "    </tr>\n",
       "    <tr>\n",
       "      <th>16</th>\n",
       "      <td>16</td>\n",
       "      <td>4261</td>\n",
       "    </tr>\n",
       "    <tr>\n",
       "      <th>17</th>\n",
       "      <td>17</td>\n",
       "      <td>4353</td>\n",
       "    </tr>\n",
       "    <tr>\n",
       "      <th>18</th>\n",
       "      <td>18</td>\n",
       "      <td>4176</td>\n",
       "    </tr>\n",
       "    <tr>\n",
       "      <th>19</th>\n",
       "      <td>19</td>\n",
       "      <td>4271</td>\n",
       "    </tr>\n",
       "    <tr>\n",
       "      <th>20</th>\n",
       "      <td>20</td>\n",
       "      <td>4228</td>\n",
       "    </tr>\n",
       "    <tr>\n",
       "      <th>21</th>\n",
       "      <td>21</td>\n",
       "      <td>4343</td>\n",
       "    </tr>\n",
       "    <tr>\n",
       "      <th>22</th>\n",
       "      <td>22</td>\n",
       "      <td>4283</td>\n",
       "    </tr>\n",
       "    <tr>\n",
       "      <th>23</th>\n",
       "      <td>23</td>\n",
       "      <td>4226</td>\n",
       "    </tr>\n",
       "  </tbody>\n",
       "</table>\n",
       "</div>"
      ],
      "text/plain": [
       "    booking_hour  total_bookings\n",
       "0              0            4318\n",
       "1              1            4329\n",
       "2              2            4305\n",
       "3              3            4201\n",
       "4              4            4263\n",
       "5              5            4264\n",
       "6              6            4271\n",
       "7              7            4304\n",
       "8              8            4374\n",
       "9              9            4347\n",
       "10            10            4334\n",
       "11            11            4272\n",
       "12            12            4408\n",
       "13            13            4285\n",
       "14            14            4232\n",
       "15            15            4376\n",
       "16            16            4261\n",
       "17            17            4353\n",
       "18            18            4176\n",
       "19            19            4271\n",
       "20            20            4228\n",
       "21            21            4343\n",
       "22            22            4283\n",
       "23            23            4226"
      ]
     },
     "metadata": {},
     "output_type": "display_data"
    }
   ],
   "source": [
    "# 14. Total highest booking done every hour of the day\n",
    "print(\"Total highest booking done every hour of the day:\")\n",
    "query14 = \"SELECT Hour AS booking_hour, COUNT(*) AS total_bookings FROM rides GROUP BY booking_hour;\"\n",
    "df_total_bookings_per_hour = run_query(query14)\n",
    "display(df_total_bookings_per_hour)\n"
   ]
  },
  {
   "cell_type": "markdown",
   "id": "8134d08f",
   "metadata": {},
   "source": [
    "## 📊 Data Insights, Challenges & Recommendations\n",
    "### Key Data Insights\n",
    "\n",
    "#### Ride Trends: Out of 103,024 rides, only 62.1% were successful, while 28.1% were canceled (10,499 by customers, 18,434 by drivers).\n",
    "\n",
    "#### Vehicle Usage: Prime Sedan, eBike, and Bike together account for the highest total ride distance, highlighting both premium ride demand and last-mile connectivity.\n",
    "\n",
    "#### Ratings: Both average customer and driver ratings are 2.48/5, reflecting a clear satisfaction gap and potential service quality issues.\n",
    "\n",
    "### Revenue Insights:\n",
    "\n",
    "#### “Unknown” payment method accounts for 37.9% of revenue → strong indication of data quality gaps.\n",
    "\n",
    "#### Among valid payments, Cash (34.1%) and UPI (25.1%) dominate transactions.\n",
    "\n",
    "#### Customer Value: Top 5 customers alone generated over ₹32K in bookings, showing opportunities for loyalty and rewards programs.\n",
    "\n",
    "\n",
    "### Challenges Identified\n",
    " \n",
    "#### High Cancellation Rate (28%) → leading to lost revenue and poor customer experience.\n",
    "\n",
    "#### Low Ratings (2.48/5) → indicates dissatisfaction, mismatch in expectations, or rating misuse.\n",
    "\n",
    "#### Data Quality Issues → large portion of “Unknown” payment methods and cancellation reasons.\n",
    "\n",
    "#### Revenue Concentration → heavy reliance on cash/UPI, limited digital diversity.\n",
    "\n",
    "#### Customer Retention Risk → revenue is skewed, with a few top customers contributing significantly.\n",
    "\n",
    "#### Operational Imbalance → more cancellations by drivers than customers, suggesting supply/demand mismatches.\n",
    "\n",
    "## Recommendations\n",
    "\n",
    "### Reduce Cancellations:\n",
    "\n",
    "#### Improve driver allocation algorithms to reduce long pickup times.\n",
    "\n",
    "#### Introduce incentives/penalties for both drivers and customers to discourage unnecessary cancellations.\n",
    "\n",
    "#### Improve Ratings & Experience:\n",
    "\n",
    "#### Launch training/feedback programs for drivers.\n",
    "\n",
    "#### Use ride feedback forms to capture detailed service issues.\n",
    "\n",
    "#### Reward consistently high-rated drivers to motivate better service.\n",
    "\n",
    "#### Fix Data Quality Issues:\n",
    "\n",
    "#### Standardize payment recording systems to eliminate “Unknown” entries.\n",
    "\n",
    "#### Redefine and enforce structured cancellation reasons.\n",
    "\n",
    "#### Revenue Diversification:\n",
    "\n",
    "#### Promote digital payments with offers (UPI, cards, wallets).\n",
    "\n",
    "#### Reduce dependency on cash by introducing cashless incentives.\n",
    "\n",
    "#### Customer Loyalty Strategy:\n",
    "\n",
    "#### Identify top spenders and roll out loyalty programs (discounts, premium access).\n",
    "\n",
    "#### Use referral bonuses to expand high-value customer base."
   ]
  }
 ],
 "metadata": {
  "kernelspec": {
   "display_name": "Python 3",
   "language": "python",
   "name": "python3"
  },
  "language_info": {
   "codemirror_mode": {
    "name": "ipython",
    "version": 3
   },
   "file_extension": ".py",
   "mimetype": "text/x-python",
   "name": "python",
   "nbconvert_exporter": "python",
   "pygments_lexer": "ipython3",
   "version": "3.13.7"
  }
 },
 "nbformat": 4,
 "nbformat_minor": 5
}
